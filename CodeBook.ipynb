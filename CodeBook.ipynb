{
 "cells": [
  {
   "cell_type": "code",
   "execution_count": null,
   "metadata": {},
   "outputs": [],
   "source": [
    "import joblib\n",
    "import numpy as np\n",
    "import pandas as pd\n",
    "import xgboost as xgb\n",
    "import seaborn as sns\n",
    "import matplotlib.pyplot as plt\n",
    "\n",
    "from skopt import BayesSearchCV\n",
    "from skopt.sampler import Grid\n",
    "\n",
    "    \n",
    "df = pd.read_csv('data/data.csv')\n",
    "df = df.sort_values('query_id')"
   ]
  },
  {
   "cell_type": "markdown",
   "metadata": {},
   "source": [
    "# EDA"
   ]
  },
  {
   "cell_type": "markdown",
   "metadata": {},
   "source": [
    "### Посмотрим на корреляционную матрицу"
   ]
  },
  {
   "cell_type": "code",
   "execution_count": null,
   "metadata": {},
   "outputs": [],
   "source": [
    "# Вычисляем корреляционную матрицу\n",
    "corr_matrix = df.corr()\n",
    "\n",
    "# Создаем тепловую карту корреляций\n",
    "plt.figure(figsize=(19, 12))\n",
    "sns.heatmap(corr_matrix, cmap='coolwarm', fmt=\".2f\")\n",
    "plt.title('Карта корреляций между признаками')\n",
    "plt.show()"
   ]
  },
  {
   "cell_type": "markdown",
   "metadata": {},
   "source": [
    "### Посмотрим на распределение признаков"
   ]
  },
  {
   "cell_type": "code",
   "execution_count": null,
   "metadata": {},
   "outputs": [],
   "source": [
    "plt.figure()\n",
    "ax = df.hist(bins=30, edgecolor='black', color='blue', alpha=0.7, figsize=(19, 12))\n",
    "for axis in ax.flatten():\n",
    "    axis.axis('off')\n",
    "    axis.set_title(axis.get_title(), fontsize=8)\n",
    "    \n",
    "plt.show()"
   ]
  },
  {
   "cell_type": "markdown",
   "metadata": {},
   "source": [
    "# Обучение"
   ]
  },
  {
   "cell_type": "markdown",
   "metadata": {},
   "source": [
    "Из анализа видно, что имеются созависимые признаки и нет нормального распределения, поэтому был выбран Градиентный бустинг (XGBoost)"
   ]
  },
  {
   "cell_type": "markdown",
   "metadata": {},
   "source": [
    "### Разбиение данных"
   ]
  },
  {
   "cell_type": "code",
   "execution_count": null,
   "metadata": {},
   "outputs": [],
   "source": [
    "X = df.drop(columns=['rank', 'query_id'])\n",
    "y = df['rank'].values\n",
    "qid = df['query_id'].values"
   ]
  },
  {
   "cell_type": "markdown",
   "metadata": {},
   "source": [
    "### Тюнинг гиперпараметров"
   ]
  },
  {
   "cell_type": "code",
   "execution_count": null,
   "metadata": {},
   "outputs": [],
   "source": [
    "params = {\n",
    "    'objective':\"rank:ndcg\", \n",
    "    'lambdarank_num_pair_per_sample': 5,\n",
    "    'lambdarank_pair_method': 'topk'\n",
    "}\n",
    "\n",
    "opt = BayesSearchCV(\n",
    "    estimator=xgb.XGBRanker(**params), \n",
    "    search_spaces={\n",
    "        'learning_rate': (0.01, 1.0, 'log-uniform'),\n",
    "        'max_depth': (3, 10),\n",
    "        'n_estimators': (50, 200),\n",
    "        'gamma': (0.0, 1.0, 'uniform'),\n",
    "        'subsample': (0.5, 1.0, 'uniform'),\n",
    "        'colsample_bytree': (0.5, 1.0, 'uniform'),\n",
    "        'reg_alpha': (0.0, 1.0, 'uniform'),\n",
    "        'reg_lambda': (0.0, 1.0, 'uniform'),\n",
    "        'min_child_weight': (1, 10),\n",
    "    }, \n",
    "    optimizer_kwargs={\n",
    "        \"base_estimator\": \"GP\",\n",
    "        \"initial_point_generator\": Grid(\n",
    "            border=\"exclude\", use_full_layout=False\n",
    "        ),\n",
    "    },\n",
    "    cv=5, \n",
    "    n_jobs=-1,\n",
    "    refit=True\n",
    ")\n",
    "\n",
    "opt.fit(X, y, qid=qid)"
   ]
  },
  {
   "cell_type": "code",
   "execution_count": null,
   "metadata": {},
   "outputs": [],
   "source": [
    "print(\"Best parameters found:\", opt.best_params_)\n",
    "print(\"Best score found:\", opt.best_score_)"
   ]
  },
  {
   "cell_type": "markdown",
   "metadata": {},
   "source": [
    "### Сохранение лучших параметров и модели"
   ]
  },
  {
   "cell_type": "code",
   "execution_count": null,
   "metadata": {},
   "outputs": [],
   "source": [
    "params.update(dict(opt.best_params_))\n",
    "joblib.dump(params, 'xgbRanker_hyperparameters.pkl')\n",
    "joblib.dump(opt.best_estimator_, 'xgbRanker.pkl')"
   ]
  },
  {
   "cell_type": "markdown",
   "metadata": {},
   "source": [
    "### Загрузка модели"
   ]
  },
  {
   "cell_type": "code",
   "execution_count": null,
   "metadata": {},
   "outputs": [],
   "source": [
    "model = joblib.load('xgbRanker.pkl')"
   ]
  },
  {
   "cell_type": "markdown",
   "metadata": {},
   "source": [
    "### Обучение модели по лучшим гиперпараметрам"
   ]
  },
  {
   "cell_type": "code",
   "execution_count": null,
   "metadata": {},
   "outputs": [],
   "source": [
    "params = joblib.load('xgbRanker_hyperparameters.pkl')\n",
    "model = xgb.XGBRanker(**params)\n",
    "model.fit(X, y, qid=qid)"
   ]
  },
  {
   "cell_type": "markdown",
   "metadata": {},
   "source": [
    "# Инференс"
   ]
  },
  {
   "cell_type": "markdown",
   "metadata": {},
   "source": [
    "### Получение оценок модели"
   ]
  },
  {
   "cell_type": "code",
   "execution_count": null,
   "metadata": {},
   "outputs": [],
   "source": [
    "scores = model.predict(X)"
   ]
  },
  {
   "cell_type": "markdown",
   "metadata": {},
   "source": [
    "### Нормализация оценок"
   ]
  },
  {
   "cell_type": "code",
   "execution_count": null,
   "metadata": {},
   "outputs": [],
   "source": [
    "predictions = (scores - scores.min()) / (scores.max() - scores.min())"
   ]
  },
  {
   "cell_type": "markdown",
   "metadata": {},
   "source": [
    "### Получение рангов"
   ]
  },
  {
   "cell_type": "code",
   "execution_count": null,
   "metadata": {},
   "outputs": [],
   "source": [
    "predictions = np.round(predictions * y.max()).astype(int)"
   ]
  },
  {
   "cell_type": "markdown",
   "metadata": {},
   "source": [
    "### Подсчет NDCG@5"
   ]
  },
  {
   "cell_type": "code",
   "execution_count": null,
   "metadata": {},
   "outputs": [],
   "source": [
    "ndcg = df.groupby('query_id').apply(lambda row: model.score(row.drop(columns=['rank', 'query_id']), row['rank'].values))\n",
    "np.mean(ndcg)"
   ]
  }
 ],
 "metadata": {
  "kernelspec": {
   "display_name": ".venv",
   "language": "python",
   "name": "python3"
  },
  "language_info": {
   "codemirror_mode": {
    "name": "ipython",
    "version": 3
   },
   "file_extension": ".py",
   "mimetype": "text/x-python",
   "name": "python",
   "nbconvert_exporter": "python",
   "pygments_lexer": "ipython3",
   "version": "3.12.2"
  }
 },
 "nbformat": 4,
 "nbformat_minor": 2
}
